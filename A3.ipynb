{
  "nbformat": 4,
  "nbformat_minor": 0,
  "metadata": {
    "colab": {
      "name": "A3.ipynb",
      "provenance": [],
      "include_colab_link": true
    },
    "kernelspec": {
      "name": "python3",
      "display_name": "Python 3"
    }
  },
  "cells": [
    {
      "cell_type": "markdown",
      "metadata": {
        "id": "view-in-github",
        "colab_type": "text"
      },
      "source": [
        "<a href=\"https://colab.research.google.com/github/msjxh/UTS_ML2019_ID13145685/blob/master/A3.ipynb\" target=\"_parent\"><img src=\"https://colab.research.google.com/assets/colab-badge.svg\" alt=\"Open In Colab\"/></a>"
      ]
    },
    {
      "cell_type": "markdown",
      "metadata": {
        "id": "gM6eXACBad9o",
        "colab_type": "text"
      },
      "source": [
        "# Assignment 3: Pitch and Plan for Solving a Domain Problem"
      ]
    },
    {
      "cell_type": "markdown",
      "metadata": {
        "id": "ZEUrAmXqai8t",
        "colab_type": "text"
      },
      "source": [
        "Shaojie Miao 13145685"
      ]
    },
    {
      "cell_type": "markdown",
      "metadata": {
        "id": "tWCfvrJIamuv",
        "colab_type": "text"
      },
      "source": [
        "Github link : https://github.com/msjxh/UTS_ML2019_ID13145685/blob/master/A3.ipynb"
      ]
    },
    {
      "cell_type": "markdown",
      "metadata": {
        "id": "DGH3dD20YJzV",
        "colab_type": "text"
      },
      "source": [
        "# Campaign Behavior Assessment and Prediction System"
      ]
    },
    {
      "cell_type": "markdown",
      "metadata": {
        "id": "jXO-2i7aYKH7",
        "colab_type": "text"
      },
      "source": [
        "# AIMS"
      ]
    },
    {
      "cell_type": "markdown",
      "metadata": {
        "id": "BQM3to93YNyH",
        "colab_type": "text"
      },
      "source": [
        "The core technique of campaign behavior assessment and prediction system (CBAPS) is sentiment analysis. Sentiment analysis is known as opinion mining or emotion artificial intelligence, which subjectively dispose and identify the emotion and opinion (Pang & Lee 2008).<BR><BR>\n",
        "On the other hand, Ramteke et al. (2016) argue that benefit from appearance and massive use of social media, more and more people express and share your opinion. Furthermore, these data have been used in market analysis and social studies. campaigns have already utilized social platforms to gain insights from a wide range of relevant users.<BR><BR>\n",
        "This system is a comprehensive election support system. The purpose of Campaign behavior assessment prediction system is to evaluate campaign activates and predict the result of election according to sentiment analysis of Twitter. The CBAPS could be divided into two major components, which are evaluation and prediction. The evaluation of campaign is used to provide the proposals of campaign activates, such as campaign speeches and televised debates, depending on the real-time result of sentiment analysis of Twitter in order to better support for campaign. Consequently, through combination result of evaluation and real-time sentiment analysis, the prediction system has the capability to predict election result.<BR><BR>\n",
        "There are some subobjectives in the aim of CBAPS. Primarily, collecting the previous twitter data related to campaign topic and labeling the dataset in order to generate a training dataset cloud be the first subobjective. Subsequently, specific classifier could be built by certain sentiment analysis algorithm and intelligent campaign decision support system is established. the ultimate subobjective is to evaluate the reliability and accuracy of the new system."
      ]
    },
    {
      "cell_type": "markdown",
      "metadata": {
        "id": "W8tf0hXTYTwu",
        "colab_type": "text"
      },
      "source": [
        "# BACKGROUND"
      ]
    },
    {
      "cell_type": "markdown",
      "metadata": {
        "id": "jbD8pY58YVeF",
        "colab_type": "text"
      },
      "source": [
        "In recent years, social networking has become one of the most popular trends in the many domains. In the beginning, young people become the first users, who initially use social networking to share their daily life and make the new friends. Following increase of the number of users, social networking platform gradually become the critical platform used to share and launch news and personal opinion.<BR><BR>\n",
        "Since there are huge user foundation, more and more companies and politicians started to join the social network platform. Almost these social networking platforms, Twitter has become the important platform used by politicians who utilize Twitter to present their politics. Furthermore, everyone could express the different opinion in comment or personal tweets. These ideas are valuable data for business analysis and social research. Some companies could conduct market campaign or formulate market strategy according to these user’ feedbacks.<BR><BR>\n",
        "On the other hands, in the field of politics, these data are also useful. Politicians could choose the campaign slogan and political goals depending on the problem concerned by user in social\n",
        "platform depending on analysis of comment and tweets before the campaign. Hence, sentiment analysis is the necessary technique in this phase of election.<BR><BR>\n",
        "However, sentiment analysis is not limited in the primary phase of election. My system could assist the candidate to formulate the better campaign strategy depending on different phase and predict the result according to sentiment analysis of Twitter. Therefore, this system mainly involves the two technique domains, which are intelligence and sentiment analysis.<BR><BR>\n",
        "There have been many relatively mature techniques related to sentiment analysis and intelligent decision support system. Primarily, the sentiment analysis is the core technique of campaign behavior assessment and prediction system.\n",
        "Turney and Pantel (2010) indicate that vector-based model used to disambiguation. Additionally, Maas et al. (2011) point out the sentence that cannot penetrate the sentiment is very terrible. They develop a sentiment supervisor component to extend the origin model in order to detect the sentiment in the previous words.<BR><BR>\n",
        "On the other hand, compare to the long articles, the short text such as Facebook and Twitter messages contain the limited information which make traditional model harder to explore the sentiment of text. In this case, Dos Santos and Gatti (2014) proposed the new model based on deep convolutional neural network.<BR><BR>\n",
        "On the other hand, the second technique named intelligence decision support system (IDSS) is involved in the function of campaign assessment that also is an essential component of CBAPS. IDSS composes of data warehouse, OLAP, data mining, model base and interactive interface. So far, IDSS have integrated many technical fields such as the data sharing, machine learning and data mining. This technique could be likened to a human consultant who could supply the feasible scheme through collection, identification and analysis of data. In my system, we introduce the advanced the sentiment analysis method to provide data support for intelligence decision support system so that campaign team could obtain the better decision suggestion.<BR><BR>\n",
        "Overall, the new system could provide timely the decision support and the comprehensive prediction in the process of campaign through sentiment analysis related to Twitter."
      ]
    },
    {
      "cell_type": "markdown",
      "metadata": {
        "id": "QQCdC3LSYjfg",
        "colab_type": "text"
      },
      "source": [
        "\n",
        "# RESEARCH PROJECT"
      ]
    },
    {
      "cell_type": "markdown",
      "metadata": {
        "id": "zve86gsCYlc1",
        "colab_type": "text"
      },
      "source": [
        "## Significance"
      ]
    },
    {
      "cell_type": "markdown",
      "metadata": {
        "id": "1wgJs8A0YnP6",
        "colab_type": "text"
      },
      "source": [
        "Significance of This project is from three major aspects which are about technology, business and election. since the different user apply campaign behavior assessment and prediction system, it also has the different meanings in the different domain.<BR><BR>\n",
        "First of all, the significance of this project comes from combination and application of the different techniques. in this project, campaign behavior assessment and prediction system integrate a variety of techniques such as data mining, sentiment analysis, machine learning and sharing data. For the data analyst, the significance is to propose a kind of model in which\n",
        "multiple analysis system are interrelated. The process of developing analysis models with more complex structures is simplified through the similar framework of campaign behavior assessment and prediction system.<BR><BR>\n",
        "In the domain of business, simplification of technology and development process means that the cost of project could be reduced and improve the efficient. In addition, there are not only decision system but also prediction system in this system, which could save a lot of manpower and time in the process of election. basically, this system could save lots of money and time. On the other hand, there are many television programs associated with situation analysis of election during the election. One of the most relevant indicators is public opinion polls used to evaluate the victory probability of every candidates. Accurate analysis of the election situation of the TV programs can generally harvest more audience rating and bring more profits for the television station. This new system could assist tv station to present some campaign advices as well as obtain more accurate prediction of election result in different phase of election in order to create the much more audience rating.<BR><BR>\n",
        "Likewise, in the aspect of candidate, every candidate would spend much lots of money on the whole phase of election. a lot of money is spent in labor costs. This system used in decision support and predict could be as a comprehensive consultant to streamline the team. For instance, the employee who is responsible to survey support and decision consultants would be unnecessary in the campaign team. Surveying support rating and data collection also take lots of time and unable to give timely feedback. As a comparison, assigning all these tasks to a computer will save a lot of time and obtain timely feedback. Furthermore, the computer has the higher accuracy of prediction and better decision support through data analysis, which could charge the current status of election and improve the election victory rating."
      ]
    },
    {
      "cell_type": "markdown",
      "metadata": {
        "id": "RyakzKyWYvkR",
        "colab_type": "text"
      },
      "source": [
        "## Innovation"
      ]
    },
    {
      "cell_type": "markdown",
      "metadata": {
        "id": "Uih0wou_YyvA",
        "colab_type": "text"
      },
      "source": [
        "The innovation of this project is mainly embodied in two aspects, which are the project ontology and a new development pattern proposed by the project.<BR><BR>\n",
        "For the project ontology, there is a new model that combine with two field of artificial intelligence. In addition, many techniques are used in the same system, such as neural network, machine learning and expert system, which is relatively rare.<BR><BR>\n",
        "Pure prediction system of election result already exists. The Ramteke et al. (2016) have proposed the model association with the prediction of the U.S. presidential election in 2006 based on sentiment analysis of social network platform. However, this model does not have a decision support system. Hence, the prediction of presidential election without decision support system does not have the strong applicability in practical. Undeniably, the model presented by Ramteke et al. (2016) possesses great significance in algorithm comparison and research. Compared with that model, the model added the decision support system could be used in the actual campaign to assist candidate to victory the election. Therefore, our model has the stronger applicability. The essence of technology development is to serve people. There are important significant of practical application for our project.<BR><BR>\n",
        "In the aspect of the new development pattern proposed by the project, new pattern to develop a workable model of the system is proposed through this project. In this model, we can combine two simple model to achieve a complex function that can only be achieved by a complex model. This pattern could make a complex question simple, which would save the development cost and time cost."
      ]
    },
    {
      "cell_type": "markdown",
      "metadata": {
        "id": "NCZFkiwrY8gA",
        "colab_type": "text"
      },
      "source": [
        "![alt text](https://)"
      ]
    },
    {
      "cell_type": "markdown",
      "metadata": {
        "id": "DjX36pBdY9Md",
        "colab_type": "text"
      },
      "source": [
        "## Action"
      ]
    },
    {
      "cell_type": "markdown",
      "metadata": {
        "id": "mEfsogIdY_LU",
        "colab_type": "text"
      },
      "source": [
        "According to the project objectives and maximize the realization is the expect function of this system, this project would be broken into four phases, which cover everything from planning to delivery. this project consists of building team projects plan, data collection, build model, evaluation and integrate system."
      ]
    },
    {
      "cell_type": "markdown",
      "metadata": {
        "id": "soXDPjsyZAqH",
        "colab_type": "text"
      },
      "source": [
        "### Building team and Research"
      ]
    },
    {
      "cell_type": "markdown",
      "metadata": {
        "id": "1ypoi2hPZDw2",
        "colab_type": "text"
      },
      "source": [
        "In initial phase of project, building an efficient team is necessary. In order to achieve the expect function, the adequate budget of time and money is one of the most critical things. Therefore, before the project starts, we assign several groups according to the different function of this project. We will make everyone understand the specific objectives and allocate the specific tasks for each group in the team and feedback time required in order to figure out the least time of this project and make the whole project plan. According to the feedback, the project manager needs to develop detailed project plan for each group.<br><br>\n",
        "In additional, there is a leader appointed in each group in order to assign the personal task, supervise and coordinate group work as well as report the work progress in regular work report meeting. On the other hand, the power of a team is greater than the power of many individuals. the community built to solve the project-related problem or challenge and\n",
        " \n",
        "conducting reward mechanism which could encourage everyone to share the knowledge and enhance the team efficient are also necessary for the team."
      ]
    },
    {
      "cell_type": "markdown",
      "metadata": {
        "id": "_5Xbt2QEZJV_",
        "colab_type": "text"
      },
      "source": [
        "### Collection data"
      ]
    },
    {
      "cell_type": "markdown",
      "metadata": {
        "id": "J4tsXYqOZLbE",
        "colab_type": "text"
      },
      "source": [
        "Since our project is related on sentiment analysis on Twitter to provide the decision support and predict result of election, the dataset of this project come from the Twitter dataset. some of the feature of Twitter are essential to understand that could reduce the time spent in the process of collection data.<br><br>\n",
        "Twitter is an online social network platform. what user edit and send on Twitter is called tweets. The concept of hash tag used to classify what user send is currently introduced into the many social network platform including Twitter. The users only need to classify their content by marking keywords with a hash mark.<br><br>\n",
        "According to this feature of Twitter, the process of data collection would be simplified. However, the tweet data is insufficient. In the process of collection of Twitter data, one of several group would be assigned to collect the data related on the detail of the president campaign over the year, which used to combine with sentiment analysis of Twitter to prepare for building prediction and intelligence decision support model.\n"
      ]
    },
    {
      "cell_type": "markdown",
      "metadata": {
        "id": "CL5nmvzbZP-k",
        "colab_type": "text"
      },
      "source": [
        "### Build model"
      ]
    },
    {
      "cell_type": "markdown",
      "metadata": {
        "id": "LCl2ned8ZSEM",
        "colab_type": "text"
      },
      "source": [
        "In this phase, there will be three major models output containing sentiment analysis model, intelligence decision support model and prediction model. Sentiment analysis model is a foundation of another models. Decision support model and prediction model could be developed simultaneously. Therefore, in the process of exploit these two models, the team will be split into two team in order to reduce the development time.<br><br>\n",
        "The dataset collected from Twitter need noise reduction first in order to improve the accuracy of classifier. For example, these data set need to strip of ‘@’ symbol. Furthermore, the data is tagged into different categories through a various of methods. the dataset is randomly divided into training dataset and testing dataset according to a set proportion.<br><br>\n",
        "Following this, the team could use this processed dataset to build the model in different sentiment analysis algorithms. In this project, there are two currently more popular algorithm we used which are Naive Bayes and SVM. Finally, through comparing the result, we could select the best algorithm and build model to analyze the sentiment.<br><br>\n",
        "The other two models are on the basis of dataset generated by sentiment analysis model. The dataset generated by sentiment analysis model combine the other different dataset such as the campaign detail of candidate to generate the new datasets used by these two models. Then through performing the same data processing as in the sentiment analysis model, the new other two model could be established."
      ]
    },
    {
      "cell_type": "markdown",
      "metadata": {
        "id": "4h9svpe8ZYE_",
        "colab_type": "text"
      },
      "source": [
        "### Evaluation and integrate system"
      ]
    },
    {
      "cell_type": "markdown",
      "metadata": {
        "id": "qeVQbfwvZaSX",
        "colab_type": "text"
      },
      "source": [
        "\n",
        "The final phase is to evaluation each model and integrate these models into a system. We only need to assess the decision support model and prediction model. The reason is that the sentiment has been evaluated before building other two models. the dataset created by sentiment analysis model is the basic dataset required by these two models. For the new classifiers, the accuracy needs to be assessed with the testing data generated in the data pre- processing. Whereas, the decision support model also needs to evaluate the stability and Reliability through simulating decision in different situation.<br><br>\n",
        "Finally, we need to integrate the three evaluated models into a system so that these three models could work together. Furthermore, the new system would be tested through dataset selected randomly from original dataset to assess its reliability and the new system is delivered to client."
      ]
    },
    {
      "cell_type": "markdown",
      "metadata": {
        "id": "r_doRiRvZc_1",
        "colab_type": "text"
      },
      "source": [
        "## Timeline"
      ]
    },
    {
      "cell_type": "markdown",
      "metadata": {
        "id": "3KdlaZrZZfFv",
        "colab_type": "text"
      },
      "source": [
        "<img src=\"https://github.com/msjxh/UTS_ML2019_ID13145685/blob/master/WX20191009-224222%402x.png?raw=true\" width=\"1000\"/>\n"
      ]
    },
    {
      "cell_type": "markdown",
      "metadata": {
        "id": "nFu-jNDcZvG9",
        "colab_type": "text"
      },
      "source": [
        "## Expect output"
      ]
    },
    {
      "cell_type": "markdown",
      "metadata": {
        "id": "VScMVjPzZx1_",
        "colab_type": "text"
      },
      "source": [
        "This project ultimately would be output a comprehensive system which integrates campaign decision support for the candidate and prediction of outcome based on the sentiment analysis of twitter.<br><br>\n",
        "This system could assist the candidate to analyze the current situation more accurately and quickly. Additionally, accurate control of the situation combined with decision support system could greatly increase the victory rating. Furthermore, this system could save candidate a lot of money and time. the money saved by this system could be used in other areas that have more impact on results, which could achieve the result of killing two birds with one stone.<br><br>\n",
        "On the other hand, this system could improve the audience rating of TV programs through the accurate judgment of the situation. And then, more sponsors will choose to invest in this TV program and improve the income and status of TV stations.<br><br>\n",
        "Moreover, although this system is based on the American election, this system has strong applicability. this system could be used in Australia, New Zealand and other countries where the voters use Twitter."
      ]
    },
    {
      "cell_type": "markdown",
      "metadata": {
        "id": "E8jZ_hjYZ4Tg",
        "colab_type": "text"
      },
      "source": [
        "# BUDGET"
      ]
    },
    {
      "cell_type": "markdown",
      "metadata": {
        "id": "haJXvF6sZ6in",
        "colab_type": "text"
      },
      "source": [
        "<img src=\"https://github.com/msjxh/UTS_ML2019_ID13145685/blob/master/WX20191009-224104%402x.png?raw=true\" width=\"700\"/>"
      ]
    },
    {
      "cell_type": "markdown",
      "metadata": {
        "id": "MdR-1vYjaEW-",
        "colab_type": "text"
      },
      "source": [
        "# PERSONNEL"
      ]
    },
    {
      "cell_type": "markdown",
      "metadata": {
        "id": "OfnRLYS-aGkB",
        "colab_type": "text"
      },
      "source": [
        "In order to realize this project, relevant technical talents are indispensable. Because the project involves a wide range of technologies, there are many technical talents needed. Chief of all including: The person the capability to build causa and predictive models utilizing statistical programming language and develop statistical modeling techniques to collect, analyze the interpret data.<br><br>\n",
        "Employees in other areas of data analysis are still needed. for instance, the person has the ability to work in tandem with Business Intelligence to develop distributed computing capabilities to handle large-scale data storage and computation, and deployment of such a platform for analytical purposes, the person could support data analytics colleagues and business stakeholders as a Machine Learning Engineering and Big data system subject matter expert.<br><br>\n",
        "Compare with technique employee, the administrative staff is also necessary in a team, which could supervise the project progress and communicate user needs such as product manager and project manager. This administrative staff would fully participate in attend in the project. According to project sizes, the number of project manager set up is different. Since this project is a large size, there are 2 project managers in this project. Not all project manager fully take part in project. in the different stages, the different number of project manager would take part in this project. before the stage of delivery, there would be 2 project managers in this project, Since the task of the delivery phase is to evaluation, there is no mean in having too many project managers.<br><br>\n",
        "In the final stages, the assessment team will participate in the project."
      ]
    },
    {
      "cell_type": "markdown",
      "metadata": {
        "id": "za16LHNWaN1J",
        "colab_type": "text"
      },
      "source": [
        "# REFERENCE"
      ]
    },
    {
      "cell_type": "markdown",
      "metadata": {
        "id": "iYm-KPtGaVZO",
        "colab_type": "text"
      },
      "source": [
        "\n",
        "Dos Santos, C. & Gatti, M. 2014, 'Deep convolutional neural networks for sentiment analysis of short texts', Proceedings of COLING 2014, the 25th International Conference on Computational Linguistics: Technical Papers, pp. 69-78.<br><br>\n",
        "Maas, A.L., Daly, R.E., Pham, P.T., Huang, D., Ng, A.Y. & Potts, C. 2011, 'Learning word vectors for sentiment analysis', Proceedings of the 49th annual meeting of the association for computational linguistics: Human language technologies-volume 1, Association for Computational Linguistics, pp. 142-50.<br><br>\n",
        "Pang, B. & Lee, L. 2008, 'Opinion mining and sentiment analysis', Foundations and Trends® in Information Retrieval, vol. 2, no. 1–2, pp. 1-135.<br><br>\n",
        "Ramteke, J., Shah, S., Godhia, D. & Shaikh, A. 2016, 'Election result prediction using Twitter sentiment analysis', 2016 international conference on inventive computation technologies (ICICT), vol. 1, IEEE, pp. 1-5.<br><br>\n",
        "Turney, P.D. & Pantel, P. 2010, 'From frequency to meaning: Vector space models of semantics', Journal of artificial intelligence research, vol. 37, pp. 141-88."
      ]
    },
    {
      "cell_type": "markdown",
      "metadata": {
        "id": "aw22BKc8aacp",
        "colab_type": "text"
      },
      "source": [
        "# VIDEO PITCH"
      ]
    },
    {
      "cell_type": "markdown",
      "metadata": {
        "id": "JtgXUdc4acu0",
        "colab_type": "text"
      },
      "source": [
        ""
      ]
    }
  ]
}