{
  "nbformat": 4,
  "nbformat_minor": 0,
  "metadata": {
    "colab": {
      "name": "A1.ipynb",
      "version": "0.3.2",
      "provenance": [],
      "include_colab_link": true
    },
    "kernelspec": {
      "name": "python3",
      "display_name": "Python 3"
    }
  },
  "cells": [
    {
      "cell_type": "markdown",
      "metadata": {
        "id": "view-in-github",
        "colab_type": "text"
      },
      "source": [
        "<a href=\"https://colab.research.google.com/github/msjxh/UTS_ML2019_ID13145685/blob/master/A1.ipynb\" target=\"_parent\"><img src=\"https://colab.research.google.com/assets/colab-badge.svg\" alt=\"Open In Colab\"/></a>"
      ]
    },
    {
      "cell_type": "markdown",
      "metadata": {
        "id": "TWbfgX1LDb6B",
        "colab_type": "text"
      },
      "source": [
        "# Review Report on \"Eigenfaces vs. Fisherfaces: Recognition Using Class Specific Linear Projection\""
      ]
    },
    {
      "cell_type": "markdown",
      "metadata": {
        "id": "TiPFW46W5fIW",
        "colab_type": "text"
      },
      "source": [
        "## **Introduction**"
      ]
    },
    {
      "cell_type": "markdown",
      "metadata": {
        "id": "5oJA9pCi5kHX",
        "colab_type": "text"
      },
      "source": [
        "With the last several years, the situation of biometric technology is different with the past situation. In recent years, more and more biometrics have appeared in people's life and gradually changed people's lifestyle，Fingerprint recognition and face recognition are the most exposed in our lives. This report relate on one of the most successful method for face recognition, fisherface and its related technology FLD. First of all, I will summarize the content of the article in the content, and then elaborate on the advanced nature of this method. Then I pointed out some shortcomings of this article. Finally, I pointed out in the Application section that the limitations of the method have been and possible improvements."
      ]
    },
    {
      "cell_type": "markdown",
      "metadata": {
        "id": "x-ltW6td5nYp",
        "colab_type": "text"
      },
      "source": [
        "## **Content**"
      ]
    },
    {
      "cell_type": "markdown",
      "metadata": {
        "id": "f_TLtQG15rS_",
        "colab_type": "text"
      },
      "source": [
        "There are a lot of challenges to be overcome by the algorithm improvement, which mainly concentrate on facial expression, illumination variation. The existing eigenfaces algorithm did not solve the currently problems, hence, Belhumeur, Hespanha & Kriegman (1997) presented a new approach called Fisherfaces based on Fisher’s Linear Discriminant (FLD) that was developed by Robert Fisher in 1936.this algorithm combine principal components analysis (PCA) with Fisher’s Linear Discriminant to keep linearly separable and reduce dimensionality of image."
      ]
    },
    {
      "cell_type": "markdown",
      "metadata": {
        "id": "-LJCK6Ls5u5N",
        "colab_type": "text"
      },
      "source": [
        "Before understanding the fisherfaces, the eigenfaces is necessary to know, because the eigenfaces and fisherfaces have same foundation, which is PCA used in dimension reduction, and both are based on linearly projection of the face space of the image (Jaiswal 2011). According to Belhumeur, Hespanha & Kriegman (1997), the major of dimension reduction of Eigenface is PCA that could maximize the scatter of every samples. Compared with the correlation which is to allocate the closest point as label and normalized image to choose image in the process of learning and test image correlation, this approach could save a mass of storage and solve the problem computationally expensive. The drawback is also obvious. Due to remain the lots of variation including some unexpected feature such as illumination variation and facial expression, charging these unwanted variations would affect the accuracy ratio of face recognition. Furthermore, the author (Belhumeur, Hespanha & Kriegman 1997) indicated the plausible method called linear subspace. This advantage of linear subspace is insensitive in a lot of lighting condition. However, there are drawback same as correlation which is that take up large amount of storage and is computationally expensive."
      ]
    },
    {
      "cell_type": "markdown",
      "metadata": {
        "id": "UEg8eOIM5xkg",
        "colab_type": "text"
      },
      "source": [
        "Fisherface is similar to eigenface, the biggest different point is that Fisherface not only use PCA but also import FLD which could be used to classify the training set by the different facial expression. Hence, fisherface have a capacity to classify different facial expression and eliminate effect of illumination. Both PCA and FLD is the method to transform the pixel point from 2D space to 1D. Furthermore, the information of picture could be simplified. Therefore, in theory, Fisherfaces could have greater accuracy ratio and do not require a large amount of storage."
      ]
    },
    {
      "cell_type": "markdown",
      "metadata": {
        "id": "vWKODiNP52FD",
        "colab_type": "text"
      },
      "source": [
        "However, the theory is not sufficient, the new method of face recognition needs to be supported by the experiment result. Belhumeur, Hespanha & Kriegman (1997) present they establish three experiment that have different variations to evaluate and compare four approach of face recognition."
      ]
    },
    {
      "cell_type": "markdown",
      "metadata": {
        "id": "WpoLTP-c5_UG",
        "colab_type": "text"
      },
      "source": [
        "The first experiment is to assess accuracy ratio of each algorithm, which set only variation of lighting. In this experiment. Sample from Harvard Robotics Laboratory contains 330 images of five people and extract five subsets which is collected in 15 increment to evaluate the effect of lighting. Finally, the result meets the theory expectation. When removing the variation of lighting, every approach has relatively high accuracy ratio. Eigenface removing three principle components effectively improve the accuracy ratio. However, Fisherfaces still have lower error ratio than eigenfaces ignoring the first three principal components. Although, linear subspace has similar error ratio with Fisherface, this algorithm demands the three times storage and spend more time than Fisherface.\n"
      ]
    },
    {
      "cell_type": "markdown",
      "metadata": {
        "id": "iIOeiWdw-Wau",
        "colab_type": "text"
      },
      "source": [
        "<img src=\"https://github.com/msjxh/UTS_ML2019_ID13145685/blob/master/Picture%204.png?raw=true\" width=\"300\"/>\n",
        "\n",
        "\n",
        "  Figure 1 the variables in the first experiment"
      ]
    },
    {
      "cell_type": "markdown",
      "metadata": {
        "id": "3XUfUVNP6B2l",
        "colab_type": "text"
      },
      "source": [
        "The second and third experiments add the facial express feature and glass as variation. due to import facial expression, the image no longer locates in linear subspace, linear subspace does not have obvious advantage. The error ratio has been lower than the eigenface without the first three components. As a result, Fisherface compared with other algorithm have huge advantage. Belhumeur, Hespanha & Kriegman (1997) discovered that removing the first three principal components could reduce the error ratio and the accuracy ratio of eigenface without the first three principal component could enhance as the dimension increase, Fisherface have the best solution among the four approaches when the variation includes illumination and facial expression.\n"
      ]
    },
    {
      "cell_type": "markdown",
      "metadata": {
        "id": "ZULNXjit6EmT",
        "colab_type": "text"
      },
      "source": [
        "## **Invocation**"
      ]
    },
    {
      "cell_type": "markdown",
      "metadata": {
        "id": "CE_ntq5l6G2R",
        "colab_type": "text"
      },
      "source": [
        "In this research, the authors Belhumeur, Hespanha & Kriegman (1997) proposed a new method called Fisherfaces that is based on PCA and imported FLD in order to reduce effect of illumination. Fisher’s Linear Discriminant (FLD) could structure the scatter so that classification ignore large amount of unwanted light features. In the process of face recognition. Although Both PCA and FLD is used to reduce the space dimensionality, the sample projected from high dimensionality to lower dimensionality by PCA would no longer possess the linearly separable.\n"
      ]
    },
    {
      "cell_type": "markdown",
      "metadata": {
        "id": "dhKjjIJr6I6R",
        "colab_type": "text"
      },
      "source": [
        "On the other hand, Eigenfaces attempts to find the maximizes the scatter of all samples. The drawback of this algorithm is also obvious, maximizing the scatter of all class means maximizing both between-class scatter and within-class scatter, maximizing between-class scatter could assist discriminator to classify class. However, maximizing within-class scatter will retain some unexpected information. By the contrast, FLD algorithm could minimize the within-class information. Therefore, Fisherface is based on combination PCA and FLD. fisherfaces is to select the largest ratio of the between-class scatter and the within-class scatter. The process of fisherface to transform image have two steps. Firstly, fisherface method apply PCA to reduce the dimensionality of original image space to simplify. Subsequent, using FLD assist fisherface to establish the most discriminating features (MDF) to classify (Liu & Wechsler 2002). Jaiswal (2011) indicated advantage of fisherface not only minimize the variation within each class, but also maximize the linearly separation. Therefore, this algorithm could and reduces the dimensionality to simplify the information and ignore the within-class variations information including lighting and facial expression. Consequently, the original image will transform a 1-D picture that reserve the feature information and remove the most variation."
      ]
    },
    {
      "cell_type": "markdown",
      "metadata": {
        "id": "jI-0CFmk-nUz",
        "colab_type": "text"
      },
      "source": [
        "<img src=\"https://github.com/msjxh/UTS_ML2019_ID13145685/blob/master/Picture%203.png?raw=true\" width=\"300\"/>\n",
        "\n",
        "\n",
        "                Figure 2"
      ]
    },
    {
      "cell_type": "markdown",
      "metadata": {
        "id": "AHWeEcAj6Mt0",
        "colab_type": "text"
      },
      "source": [
        "According to result of experiment conducted by Belhumeur, Hespanha & Kriegman (1997). fisherface have absolute advantage in lighting and facial expression for the eigenface. Nonetheless, there are some disadvantages of fisherface. Jaiswal (2011) argued that fisherface is more complicated than eigenface, which need to spend more calculating the ratio of the between-class scatter to within-class scatter, and the problem of fisherface is not efficient on storage, which causes the more processing time. Jaiswal (2011) considered that when the between-class scatter is huge, within- class might have a relatively big value. this case would cause increase of error ratio. Because of Fisherface based on FLD, FLD and Fisherface have common drawback, Martinez and Kak (2001) argued that when the number of training set is small, PCA will better than FLD. Hence, FLD require the large number of training sample, which is the major drawback of FLD (Liu & Wechsler 2002). This is also the obvious drawback of fisherface."
      ]
    },
    {
      "cell_type": "markdown",
      "metadata": {
        "id": "d0yLLTNh6PCe",
        "colab_type": "text"
      },
      "source": [
        "## Technique **quality**"
      ]
    },
    {
      "cell_type": "markdown",
      "metadata": {
        "id": "cUF8_A176TBa",
        "colab_type": "text"
      },
      "source": [
        "In order to evaluate the new method, the Belhumeur, Hespanha & Kriegman (1997) firstly introduced the three existing the face recognition method as a reference. Subsequence, authors proposed the new method to compare with result of other three methods. By contrast, author not only pointed out the problems or challenges of major existing method but also emphasis advantage of the new method and more progressive. There is strongly logical order in this research."
      ]
    },
    {
      "cell_type": "markdown",
      "metadata": {
        "id": "tdVFaDvN6aJJ",
        "colab_type": "text"
      },
      "source": [
        "In the experiment section, the authors firstly import a variation of lighting to assess four methods, and there are 5 subsets in this experiment. Each subset contains the lighting information from different angle of the same image. The experiment uses 330 images of 5 people from Harvard Robotics Laboratory. However, as we can see the Figure 3, from subset 1 to subset 5, the lighting conditions are weaker and weaker, capacity of sample is also more and more, the subset 5 contain the most images including 105 images. Due to relatively smaller sample capacity in subset 1 and subset 2, the result of subset 1 and subset 2 do not have a strong representativeness. When other people do the experiment else, they might have different result in the case of good condition of lighting. There should be same sample capacity for each subset, which could guarantee the rigor of the experiment. On the other hands, the purpose of this experiment is to assess effect of variation of lighting for the new method. On the whole, the quality of experiment is great.\n"
      ]
    },
    {
      "cell_type": "markdown",
      "metadata": {
        "id": "qEi5g5l69din",
        "colab_type": "text"
      },
      "source": [
        "<img src=\"http://github.com/msjxh/UTS_ML2019_ID13145685/blob/master/Picture%201.png?raw=true\" width=\"300\"/>\n",
        "             \n",
        "             \n",
        "    Figure 3 the first experiment sample"
      ]
    },
    {
      "cell_type": "markdown",
      "metadata": {
        "id": "IXwitN5m6cpj",
        "colab_type": "text"
      },
      "source": [
        "The second experiment based on the first experiment imports facial expression and eye wear as two new variation. the purpose of this experiment is to evaluate the error ratio of four algorithms in more complex conditions. There are three variation in the second experiment. However, the database used in this experiment contain 160 images. The sample of the second experiment are less than the first experiment. More complex combinations of variables are assessed in the smaller capacity database. Which would ignore or not consider many different cases that will affect the error ratio. When using the other huge database, this result of the second experiment might appear to be relatively biased. Therefore, the second experiment is not strong convincing. The result of the second experiment is not sufficient to support fisherface theory."
      ]
    },
    {
      "cell_type": "markdown",
      "metadata": {
        "id": "f9nLsSnL6dZH",
        "colab_type": "text"
      },
      "source": [
        "## **Application and X-factor**"
      ]
    },
    {
      "cell_type": "markdown",
      "metadata": {
        "id": "KUHHF0E66gpz",
        "colab_type": "text"
      },
      "source": [
        "In the domain of face recognize, Fisherface is doubtlessly advanced and successful method, which has solved major challenge caused by variation of illumination and eye wear and facial expression though combining advantage of PCA and advantage of FLD. However, either fisherface or eigen can only be used to recognize the 2-D image or information. However, in fact, face recognize generally apply in the security and identification domain. The face recognition features applied in these areas need to be dynamic analysis and used in realistic 3D worlds. Therefore, the efficient and effective 3D face recognition is necessary.\n"
      ]
    },
    {
      "cell_type": "markdown",
      "metadata": {
        "id": "t3kGjVt_6lpB",
        "colab_type": "text"
      },
      "source": [
        "Blanz and Vetter (1999) presented a new method to build face model called 3D morphable model that could be used to restructure image to produce 3D face image.\n",
        "Realistic 3D face information could be structure through combination of original 2D\n",
        "face information in this model."
      ]
    },
    {
      "cell_type": "markdown",
      "metadata": {
        "id": "eq76fE21_Gyr",
        "colab_type": "text"
      },
      "source": [
        "<img src=\"https://github.com/msjxh/UTS_ML2019_ID13145685/blob/master/Picture%202.png?raw=true\" width=\"300\"/>\n",
        "        \n",
        "  Figure 4 Reconstruct human face to build 3D model"
      ]
    },
    {
      "cell_type": "markdown",
      "metadata": {
        "id": "DcPpEsHm6rY0",
        "colab_type": "text"
      },
      "source": [
        "Supported by 3D morphable model, Bai et al. (2005) proposed the new method based on 3D morphable model and fisherface approach. The function of 3D morphable model is to transform the 2D face image of person information to compound 3D face model by computing and analyzing. The built 3D model is utilized to produce the training database for fisherface system. Through this method, we can generate huge 3D face model and import the other variables such as lighting facial expression to train fisherface system to make it have ability to be used in 3D world. On the other hand, this approach also eliminates the drawback of fisherface of requiring the large number of train sample."
      ]
    },
    {
      "cell_type": "markdown",
      "metadata": {
        "id": "lAUkw-W46zmd",
        "colab_type": "text"
      },
      "source": [
        "## **Prentaion**"
      ]
    },
    {
      "cell_type": "markdown",
      "metadata": {
        "id": "zYS8ocpd61ed",
        "colab_type": "text"
      },
      "source": [
        "The paper has completed construction. Introduction that author introduce the theory foundation is the begin of the article. The second section import the major four methods and express principle of each method through formula. Meanwhile, the authors point out the advantage and disadvantage for each method.In this section, reader could be easy to understand the principle of each method. Finally, the parameters and variable of experiment are set reasonably, and author explain specific process of experiments and result by combination word and graph. the authors list interesting point of each experiment. All of these could assist the reader to understand the conclusion. In each section, the authors always present the core principal or topic at the front of this section. In this way, reader could easy to follow the topic of each section."
      ]
    },
    {
      "cell_type": "markdown",
      "metadata": {
        "id": "TwQuPe1n7_rf",
        "colab_type": "text"
      },
      "source": [
        "There is a good logic order in this paper, which could guide the reader to understand the content and the principle of algorithm. Especially in the second section. The order of four method is that latter method compensates for the drawback of the former method."
      ]
    },
    {
      "cell_type": "markdown",
      "metadata": {
        "id": "3-pkK6N-8B5c",
        "colab_type": "text"
      },
      "source": [
        "On the other hand, there are some content could be modified in this article. Firstly, introduction section leaks an introductory construction. And for the currently challenge, this paper is arranged less content to describe, which is easy to be ignored by reader."
      ]
    },
    {
      "cell_type": "markdown",
      "metadata": {
        "id": "_Ir-VkvM8Fay",
        "colab_type": "text"
      },
      "source": [
        "\n",
        "In the mass, this article has high completion, the reader could be simply to follow the argument and understand the principles."
      ]
    },
    {
      "cell_type": "markdown",
      "metadata": {
        "id": "Af8t5SLLaPqZ",
        "colab_type": "text"
      },
      "source": [
        "<br>\n",
        "<br>\n",
        "<br>\n",
        "<br>\n",
        "<br>\n",
        "<br>\n",
        "<br>\n",
        "<br>\n",
        "<br>\n",
        "<br>\n",
        "<br>\n",
        "<br>\n",
        "<br>\n",
        "<br>\n",
        "<br>"
      ]
    },
    {
      "cell_type": "markdown",
      "metadata": {
        "id": "N7e6FLeO8P9z",
        "colab_type": "text"
      },
      "source": [
        "## **Reference**"
      ]
    },
    {
      "cell_type": "markdown",
      "metadata": {
        "id": "3tbsTu-d8Uwf",
        "colab_type": "text"
      },
      "source": [
        "Bai, X.-M., Yin, B.-C., Shi, Q. & Sun, Y.-F. 2005, 'Face recognition using extended fisherface with 3d morphable model', 2005 International Conference on Machine Learning and Cybernetics, vol. 7, IEEE, pp. 4481-6."
      ]
    },
    {
      "cell_type": "markdown",
      "metadata": {
        "id": "ScS27p908Y4A",
        "colab_type": "text"
      },
      "source": [
        "Belhumeur, P.N., Hespanha, J.P. & Kriegman, D.J. 1997, 'Eigenfaces vs. fisherfaces: Recognition using class specific linear projection', IEEE Transactions on Pattern Analysis & Machine Intelligence, no. 7, pp. 711-20."
      ]
    },
    {
      "cell_type": "markdown",
      "metadata": {
        "id": "wP_a_S_L8b6M",
        "colab_type": "text"
      },
      "source": [
        "Blanz, V. & Vetter, T. 1999, 'A morphable model for the synthesis of 3D faces', Siggraph, vol. 99, pp. 187-94."
      ]
    },
    {
      "cell_type": "markdown",
      "metadata": {
        "id": "80VrTTTw8c2Y",
        "colab_type": "text"
      },
      "source": [
        "Jaiswal, S. 2011, 'Comparison between face recognition algorithm-eigenfaces, fisherfaces and elastic bunch graph matching', Journal of global research in computer science, vol. 2, no. 7, pp. 187-93."
      ]
    },
    {
      "cell_type": "markdown",
      "metadata": {
        "id": "BNdkPG8p8guD",
        "colab_type": "text"
      },
      "source": [
        "Liu, C. & Wechsler, H. 2002, 'Gabor feature based classification using the enhanced fisher linear discriminant model for face recognition', IEEE Transactions on Image processing, vol. 11, no. 4, pp. 467-76."
      ]
    },
    {
      "cell_type": "markdown",
      "metadata": {
        "id": "4jo5SRflUYTh",
        "colab_type": "text"
      },
      "source": [
        "Martínez, A.M. & Kak, A.C. 2001, 'Pca versus lda', IEEE transactions on pattern analysis and machine intelligence, vol. 23, no. 2, pp. 228-33."
      ]
    }
  ]
}